{
 "cells": [
  {
   "cell_type": "code",
   "execution_count": 4,
   "metadata": {},
   "outputs": [],
   "source": [
    "import numpy as np\n",
    "from roipoly import roipoly\n",
    "import logging\n",
    "import cv2\n",
    "import glob\n",
    "import pylab as pl\n",
    "import os\n",
    "import pickle\n",
    "from skimage import measure\n",
    "from g_data import get_gdata\n",
    "from g_data import get_pic\n",
    "from prob import get_pic1\n",
    "from g_data import get_prob\n",
    "from plot_ols import l_reg\n",
    "from skimage import data, util\n",
    "from skimage.measure import label, regionprops\n",
    "import math\n",
    "import time"
   ]
  },
  {
   "cell_type": "code",
   "execution_count": 2,
   "metadata": {},
   "outputs": [],
   "source": [
    "my_pic=os.listdir('/Users/vaish/Desktop/img')\n",
    "X = np.empty((0,4), int)\n",
    "\n",
    "for img_file in my_pic:\n",
    "    \n",
    "     if img_file.split(\".\")[-1].lower() in {\"jpeg\", \"jpg\", \"png\"}:\n",
    "            img1 = cv2.imread(img_file)\n",
    "            img2 = cv2.cvtColor(img1,cv2.COLOR_RGB2BGR)\n",
    "            imgz = np.reshape(img1,(960000,3))\n",
    "            one = np.ones((960000,1))\n",
    "            trainimg = np.concatenate((imgz,one),1)\n",
    "            X = np.vstack((X,trainimg))\n",
    " "
   ]
  },
  {
   "cell_type": "code",
   "execution_count": 3,
   "metadata": {},
   "outputs": [],
   "source": [
    "Y = np.empty((0,1), int)\n",
    "\n",
    "for filename in os.listdir(\"./labeled_data/BlueBarrel/\"):\n",
    "    basename, extension = os.path.splitext(filename)\n",
    "    if (extension != \".npy\"):\n",
    "        continue\n",
    "    bluebarrel = np.load('./labeled_data/BlueBarrel/'+filename)\n",
    "    bluebarrel = np.array(bluebarrel,dtype=int)\n",
    "    y = np.reshape(bluebarrel,(960000,1))\n",
    "    Y = np.vstack((Y,y))\n",
    "\n",
    "                \n",
    "            "
   ]
  },
  {
   "cell_type": "code",
   "execution_count": 4,
   "metadata": {},
   "outputs": [
    {
     "name": "stdout",
     "output_type": "stream",
     "text": [
      "0\n",
      "[0]\n"
     ]
    },
    {
     "data": {
      "image/png": "[encoded data removed]",
      "text/plain": [
       "<Figure size 432x288 with 1 Axes>"
      ]
     },
     "metadata": {
      "needs_background": "light"
     },
     "output_type": "display_data"
    }
   ],
   "source": [
    "bluebarrel = np.load('./labeled_data/BlueBarrel/2.npy')\n",
    "bluebarrel = np.array(bluebarrel,dtype=int)\n",
    "#pl.imshow(bluebarrel)\n",
    "j = np.reshape(bluebarrel,(960000,1))\n",
    "y1 = np.reshape(j,(800,1200))\n",
    "pl.imshow(y1)\n",
    "if(bluebarrel.any()==False):\n",
    "    print(\"yes\")\n",
    "print(bluebarrel[1,1])\n",
    "print(Y[1])"
   ]
  },
  {
   "cell_type": "code",
   "execution_count": 5,
   "metadata": {},
   "outputs": [
    {
     "name": "stdout",
     "output_type": "stream",
     "text": [
      "[[145. 137. 130.   1.]\n",
      " [142. 134. 127.   1.]\n",
      " [142. 134. 127.   1.]\n",
      " ...\n",
      " [ 13.  22.  34.   1.]\n",
      " [ 12.  22.  38.   1.]\n",
      " [ 10.  22.  39.   1.]]\n"
     ]
    }
   ],
   "source": [
    "print(X)"
   ]
  },
  {
   "cell_type": "code",
   "execution_count": 6,
   "metadata": {},
   "outputs": [
    {
     "name": "stdout",
     "output_type": "stream",
     "text": [
      "0\n",
      "1\n",
      "(39360000, 4)\n",
      "(39360000, 1)\n"
     ]
    }
   ],
   "source": [
    "print(Y.min())\n",
    "print(Y.max())\n",
    "print(X.shape)\n",
    "print(Y.shape)"
   ]
  },
  {
   "cell_type": "code",
   "execution_count": 12,
   "metadata": {},
   "outputs": [
    {
     "name": "stdout",
     "output_type": "stream",
     "text": [
      "[0.5]\n",
      "[0.5]\n",
      "[[0. 0. 0. 0.]\n",
      " [0. 0. 0. 0.]\n",
      " [0. 0. 0. 0.]\n",
      " ...\n",
      " [0. 0. 0. 0.]\n",
      " [0. 0. 0. 0.]\n",
      " [0. 0. 0. 0.]]\n",
      "127.5\n"
     ]
    }
   ],
   "source": [
    "w=np.zeros((4,1))\n",
    "sig=1/(1+np.exp(-(Y[36,:]*X[36,:].dot(w))))\n",
    "print(sig)\n",
    "a=1-sig\n",
    "print(a)\n",
    "b=X*Y*a\n",
    "print(b)\n",
    "print(b.max())\n",
    "c = b.sum(axis=0)\n",
    "\n"
   ]
  },
  {
   "cell_type": "code",
   "execution_count": 16,
   "metadata": {},
   "outputs": [],
   "source": [
    "for n, i in enumerate(Y):\n",
    "    if i == 0:\n",
    "        Y[n] = -1"
   ]
  },
  {
   "cell_type": "code",
   "execution_count": 18,
   "metadata": {},
   "outputs": [
    {
     "name": "stdout",
     "output_type": "stream",
     "text": [
      "-1\n",
      "1\n"
     ]
    }
   ],
   "source": [
    "print(Y.min())\n",
    "print(Y.max())"
   ]
  },
  {
   "cell_type": "code",
   "execution_count": 76,
   "metadata": {},
   "outputs": [],
   "source": [
    "T = 50\n",
    "alpha = 10e-7\n",
    "#omega = np.zeros((4,1))\n",
    "\n",
    "for t in range(T):\n",
    "    x=Y*(X.dot(omega))\n",
    "    sig = 1/(1+np.exp(-x))\n",
    "    #print(sig)\n",
    "    a=1-sig\n",
    "    grad = Y*X*a\n",
    "    #print(grad)\n",
    "    step_val=alpha*(grad.sum(axis=0).reshape(4,1))\n",
    "    #print(step_val)\n",
    "    omega+=step_val\n",
    "    #print(omega)\n"
   ]
  },
  {
   "cell_type": "code",
   "execution_count": 77,
   "metadata": {},
   "outputs": [
    {
     "name": "stdout",
     "output_type": "stream",
     "text": [
      "[[ 204.37414637]\n",
      " [-129.6109561 ]\n",
      " [-108.45771227]\n",
      " [ -18.90745388]]\n"
     ]
    }
   ],
   "source": [
    "print(omega)\n",
    "omega3 = [[ 204.37414637]\n",
    " [-129.6109561 ]\n",
    " [-108.45771227]\n",
    " [ -18.90745388]]"
   ]
  },
  {
   "cell_type": "code",
   "execution_count": 87,
   "metadata": {},
   "outputs": [
    {
     "name": "stdout",
     "output_type": "stream",
     "text": [
      "[[ 263.91425485]\n",
      " [-123.02686328]\n",
      " [-211.60120971]\n",
      " [ -11.19707942]]\n"
     ]
    }
   ],
   "source": [
    "omega = [[ 263.91425485],\n",
    "         [-123.02686328],\n",
    "         [-211.60120971],\n",
    "         [ -11.19707942]]\n",
    "\n",
    "omega1= [[ 648.39503027],\n",
    "         [-167.26574732],\n",
    "         [-731.34300279],\n",
    "         [   1.45280908]]\n",
    "omega=np.array(omega)\n",
    "omega=omega\n",
    "print(omega)"
   ]
  },
  {
   "cell_type": "code",
   "execution_count": 20,
   "metadata": {},
   "outputs": [
    {
     "name": "stdout",
     "output_type": "stream",
     "text": [
      "[[5266.4068 ]\n",
      " [3736.61375]\n",
      " [2621.61775]\n",
      " [  45.5142 ]]\n"
     ]
    }
   ],
   "source": [
    "print(w)"
   ]
  },
  {
   "cell_type": "code",
   "execution_count": 48,
   "metadata": {},
   "outputs": [
    {
     "name": "stdout",
     "output_type": "stream",
     "text": [
      "(800, 1200)\n"
     ]
    },
    {
     "data": {
      "image/png": "[encoded data removed]",
      "text/plain": [
       "<Figure size 432x288 with 1 Axes>"
      ]
     },
     "metadata": {
      "needs_background": "light"
     },
     "output_type": "display_data"
    }
   ],
   "source": [
    "\n",
    "                "
   ]
  },
  {
   "cell_type": "code",
   "execution_count": 13,
   "metadata": {},
   "outputs": [
    {
     "name": "stdout",
     "output_type": "stream",
     "text": [
      "(960000, 1)\n"
     ]
    }
   ],
   "source": [
    "print(y.shape)"
   ]
  },
  {
   "cell_type": "code",
   "execution_count": null,
   "metadata": {},
   "outputs": [],
   "source": []
  },
  {
   "cell_type": "code",
   "execution_count": null,
   "metadata": {},
   "outputs": [],
   "source": []
  },
  {
   "cell_type": "code",
   "execution_count": 68,
   "metadata": {},
   "outputs": [],
   "source": [
    "test_img1 = cv2.imread('1.png')\n",
    "imgg=cv2.cvtColor(test_img1,cv2.COLOR_RGB2BGR)\n",
    "imgy=cv2.cvtColor(test_img1,cv2.COLOR_RGB2YCR_CB)\n",
    "imgz = np.reshape(imgy,(960000,3))\n",
    "one = np.ones((960000,1))\n",
    "testimg = np.concatenate((imgz,one),1)\n",
    "pic = np.zeros((800,1200))"
   ]
  },
  {
   "cell_type": "code",
   "execution_count": 42,
   "metadata": {},
   "outputs": [],
   "source": [
    "w = [[-7], [6],[8], [-2]]"
   ]
  },
  {
   "cell_type": "code",
   "execution_count": 88,
   "metadata": {},
   "outputs": [
    {
     "name": "stdout",
     "output_type": "stream",
     "text": [
      "29510.99452157001\n"
     ]
    }
   ],
   "source": [
    "test = testimg.dot(omega)\n",
    "print(test.max())"
   ]
  },
  {
   "cell_type": "code",
   "execution_count": 44,
   "metadata": {},
   "outputs": [
    {
     "name": "stdout",
     "output_type": "stream",
     "text": [
      "(39360000, 4)\n"
     ]
    }
   ],
   "source": [
    "print(a.shape)"
   ]
  },
  {
   "cell_type": "code",
   "execution_count": 89,
   "metadata": {},
   "outputs": [],
   "source": [
    "test = (test>0).astype(int)"
   ]
  },
  {
   "cell_type": "code",
   "execution_count": 90,
   "metadata": {},
   "outputs": [
    {
     "name": "stdout",
     "output_type": "stream",
     "text": [
      "true\n"
     ]
    }
   ],
   "source": [
    "if test.any()==1:\n",
    "    print(\"true\")\n",
    "else:\n",
    "    print(\"false\")"
   ]
  },
  {
   "cell_type": "code",
   "execution_count": 91,
   "metadata": {},
   "outputs": [],
   "source": [
    "test = np.reshape(test,(800,1200))"
   ]
  },
  {
   "cell_type": "code",
   "execution_count": 92,
   "metadata": {},
   "outputs": [
    {
     "data": {
      "text/plain": [
       "<matplotlib.image.AxesImage at 0x26b83893550>"
      ]
     },
     "execution_count": 92,
     "metadata": {},
     "output_type": "execute_result"
    },
    {
     "data": {
      "image/png": "[encoded data removed]",
      "text/plain": [
       "<Figure size 432x288 with 1 Axes>"
      ]
     },
     "metadata": {
      "needs_background": "light"
     },
     "output_type": "display_data"
    }
   ],
   "source": [
    "pl.imshow(test)"
   ]
  },
  {
   "cell_type": "code",
   "execution_count": 5,
   "metadata": {},
   "outputs": [],
   "source": [
    "test_img = cv2.imread('14.png')\n",
    "imgg=cv2.cvtColor(test_img,cv2.COLOR_RGB2BGR)\n",
    "imgy=cv2.cvtColor(test_img,cv2.COLOR_RGB2YCR_CB)\n",
    "img14 = get_pic(imgy)"
   ]
  },
  {
   "cell_type": "code",
   "execution_count": 98,
   "metadata": {},
   "outputs": [
    {
     "data": {
      "text/plain": [
       "<matplotlib.image.AxesImage at 0x26b838fd080>"
      ]
     },
     "execution_count": 98,
     "metadata": {},
     "output_type": "execute_result"
    },
    {
     "data": {
      "image/png": "[encoded data removed]",
      "text/plain": [
       "<Figure size 432x288 with 1 Axes>"
      ]
     },
     "metadata": {
      "needs_background": "light"
     },
     "output_type": "display_data"
    }
   ],
   "source": [
    "pl.imshow(img14)"
   ]
  },
  {
   "cell_type": "code",
   "execution_count": 104,
   "metadata": {},
   "outputs": [
    {
     "name": "stdout",
     "output_type": "stream",
     "text": [
      "(800, 1200)\n",
      "(800, 1200, 3)\n"
     ]
    },
    {
     "ename": "error",
     "evalue": "OpenCV(3.4.1) C:\\Miniconda3\\conda-bld\\opencv-suite_1533128839831\\work\\modules\\imgproc\\src\\color.cpp:11109: error: (-215) depth == 0 || depth == 2 || depth == 5 in function cv::cvtColor\n",
     "output_type": "error",
     "traceback": [
      "\u001b[1;31m---------------------------------------------------------------------------\u001b[0m",
      "\u001b[1;31merror\u001b[0m                                     Traceback (most recent call last)",
      "\u001b[1;32m<ipython-input-104-088987377c8b>\u001b[0m in \u001b[0;36m<module>\u001b[1;34m\u001b[0m\n\u001b[0;32m      1\u001b[0m \u001b[0mprint\u001b[0m\u001b[1;33m(\u001b[0m\u001b[0mtest\u001b[0m\u001b[1;33m.\u001b[0m\u001b[0mshape\u001b[0m\u001b[1;33m)\u001b[0m\u001b[1;33m\u001b[0m\u001b[1;33m\u001b[0m\u001b[0m\n\u001b[0;32m      2\u001b[0m \u001b[0mprint\u001b[0m\u001b[1;33m(\u001b[0m\u001b[0mimg14\u001b[0m\u001b[1;33m.\u001b[0m\u001b[0mshape\u001b[0m\u001b[1;33m)\u001b[0m\u001b[1;33m\u001b[0m\u001b[1;33m\u001b[0m\u001b[0m\n\u001b[1;32m----> 3\u001b[1;33m \u001b[0mim\u001b[0m \u001b[1;33m=\u001b[0m \u001b[0mcv2\u001b[0m\u001b[1;33m.\u001b[0m\u001b[0mcvtColor\u001b[0m\u001b[1;33m(\u001b[0m\u001b[0mimg14\u001b[0m\u001b[1;33m,\u001b[0m\u001b[0mcv2\u001b[0m\u001b[1;33m.\u001b[0m\u001b[0mCOLOR_BGR2GRAY\u001b[0m\u001b[1;33m)\u001b[0m\u001b[1;33m\u001b[0m\u001b[1;33m\u001b[0m\u001b[0m\n\u001b[0m\u001b[0;32m      4\u001b[0m \u001b[0merror\u001b[0m \u001b[1;33m=\u001b[0m \u001b[0mnp\u001b[0m\u001b[1;33m.\u001b[0m\u001b[0mlogical_xor\u001b[0m\u001b[1;33m(\u001b[0m\u001b[0mtest\u001b[0m\u001b[1;33m,\u001b[0m\u001b[0mimg14\u001b[0m\u001b[1;33m)\u001b[0m\u001b[1;33m\u001b[0m\u001b[1;33m\u001b[0m\u001b[0m\n\u001b[0;32m      5\u001b[0m \u001b[0mprint\u001b[0m\u001b[1;33m(\u001b[0m\u001b[0merror\u001b[0m\u001b[1;33m)\u001b[0m\u001b[1;33m\u001b[0m\u001b[1;33m\u001b[0m\u001b[0m\n",
      "\u001b[1;31merror\u001b[0m: OpenCV(3.4.1) C:\\Miniconda3\\conda-bld\\opencv-suite_1533128839831\\work\\modules\\imgproc\\src\\color.cpp:11109: error: (-215) depth == 0 || depth == 2 || depth == 5 in function cv::cvtColor\n"
     ]
    }
   ],
   "source": [
    "print(test.shape)\n",
    "print(img14.shape)\n",
    "im = cv2.cvtColor(img14,cv2.COLOR_BGR2GRAY)\n",
    "error = np.logical_xor(test,img14)\n",
    "print(error)"
   ]
  },
  {
   "cell_type": "code",
   "execution_count": 94,
   "metadata": {},
   "outputs": [],
   "source": [
    "test_img = cv2.imread('43.png')\n",
    "imgg=cv2.cvtColor(test_img,cv2.COLOR_RGB2BGR)\n",
    "imgy=cv2.cvtColor(test_img,cv2.COLOR_RGB2YCR_CB)\n",
    "img43 = get_pic(imgy)"
   ]
  },
  {
   "cell_type": "code",
   "execution_count": 95,
   "metadata": {},
   "outputs": [],
   "source": [
    "test_img = cv2.imread('44.png')\n",
    "imgg=cv2.cvtColor(test_img,cv2.COLOR_RGB2BGR)\n",
    "imgy=cv2.cvtColor(test_img,cv2.COLOR_RGB2YCR_CB)\n",
    "img44 = get_pic(imgy)"
   ]
  },
  {
   "cell_type": "code",
   "execution_count": 96,
   "metadata": {},
   "outputs": [],
   "source": [
    "test_img = cv2.imread('45.png')\n",
    "imgg=cv2.cvtColor(test_img,cv2.COLOR_RGB2BGR)\n",
    "imgy=cv2.cvtColor(test_img,cv2.COLOR_RGB2YCR_CB)\n",
    "img45 = get_pic(imgy)"
   ]
  },
  {
   "cell_type": "code",
   "execution_count": 97,
   "metadata": {},
   "outputs": [],
   "source": [
    "test_img = cv2.imread('46.png')\n",
    "imgg=cv2.cvtColor(test_img,cv2.COLOR_RGB2BGR)\n",
    "imgy=cv2.cvtColor(test_img,cv2.COLOR_RGB2YCR_CB)\n",
    "img46 = get_pic(imgy)"
   ]
  },
  {
   "cell_type": "code",
   "execution_count": null,
   "metadata": {},
   "outputs": [],
   "source": []
  }
 ],
 "metadata": {
  "kernelspec": {
   "display_name": "Python 3",
   "language": "python",
   "name": "python3"
  },
  "language_info": {
   "codemirror_mode": {
    "name": "ipython",
    "version": 3
   },
   "file_extension": ".py",
   "mimetype": "text/x-python",
   "name": "python",
   "nbconvert_exporter": "python",
   "pygments_lexer": "ipython3",
   "version": "3.7.1"
  }
 },
 "nbformat": 4,
 "nbformat_minor": 2
}
